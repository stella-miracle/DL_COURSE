{
  "nbformat": 4,
  "nbformat_minor": 0,
  "metadata": {
    "colab": {
      "provenance": [],
      "gpuType": "T4"
    },
    "kernelspec": {
      "name": "python3",
      "display_name": "Python 3"
    },
    "language_info": {
      "name": "python"
    },
    "accelerator": "GPU"
  },
  "cells": [
    {
      "cell_type": "code",
      "source": [
        "# Objective : Implement different sequence lengths to understand their effect on\n",
        "#             the performance of the transformer model.\n",
        "# instruction : change the sequence length to 50\n",
        "#               preprocess the data set with new sequence length\n",
        "#               train the model and compare the training loss"
      ],
      "metadata": {
        "id": "PbvrGioz7b0h"
      },
      "execution_count": null,
      "outputs": []
    },
    {
      "cell_type": "code",
      "source": [
        "! pip install pandas\n",
        "! pip install scikit-learn\n",
        "\n",
        "import numpy as np\n",
        "import pandas as pd\n",
        "import tensorflow as tf\n",
        "from sklearn.preprocessing import MinMaxScaler\n",
        "from sklearn.model_selection import train_test_split\n",
        "from tensorflow.keras.layers import Layer, Dense, LayerNormalization, Dropout, Input\n",
        "from tensorflow.keras.callbacks import EarlyStopping\n",
        "import matplotlib.pyplot as plt"
      ],
      "metadata": {
        "colab": {
          "base_uri": "https://localhost:8080/"
        },
        "id": "HDIMR-my78NQ",
        "outputId": "70b37638-03e0-4e1f-89eb-a0e61cd7762c"
      },
      "execution_count": 1,
      "outputs": [
        {
          "output_type": "stream",
          "name": "stdout",
          "text": [
            "Requirement already satisfied: pandas in /usr/local/lib/python3.11/dist-packages (2.2.2)\n",
            "Requirement already satisfied: numpy>=1.23.2 in /usr/local/lib/python3.11/dist-packages (from pandas) (2.0.2)\n",
            "Requirement already satisfied: python-dateutil>=2.8.2 in /usr/local/lib/python3.11/dist-packages (from pandas) (2.9.0.post0)\n",
            "Requirement already satisfied: pytz>=2020.1 in /usr/local/lib/python3.11/dist-packages (from pandas) (2025.2)\n",
            "Requirement already satisfied: tzdata>=2022.7 in /usr/local/lib/python3.11/dist-packages (from pandas) (2025.2)\n",
            "Requirement already satisfied: six>=1.5 in /usr/local/lib/python3.11/dist-packages (from python-dateutil>=2.8.2->pandas) (1.17.0)\n",
            "Requirement already satisfied: scikit-learn in /usr/local/lib/python3.11/dist-packages (1.6.1)\n",
            "Requirement already satisfied: numpy>=1.19.5 in /usr/local/lib/python3.11/dist-packages (from scikit-learn) (2.0.2)\n",
            "Requirement already satisfied: scipy>=1.6.0 in /usr/local/lib/python3.11/dist-packages (from scikit-learn) (1.15.2)\n",
            "Requirement already satisfied: joblib>=1.2.0 in /usr/local/lib/python3.11/dist-packages (from scikit-learn) (1.4.2)\n",
            "Requirement already satisfied: threadpoolctl>=3.1.0 in /usr/local/lib/python3.11/dist-packages (from scikit-learn) (3.6.0)\n"
          ]
        }
      ]
    },
    {
      "cell_type": "code",
      "source": [
        "# load dataset\n",
        "data_url ='https://cf-courses-data.s3.us.cloud-object-storage.appdomain.cloud/WHA_mc9FWSVjCGLSLAp48A/stock-prices.csv'\n",
        "# load csv -> using Pandas_read function\n",
        "df = pd.read_csv(data_url)"
      ],
      "metadata": {
        "id": "Ong6pYb_9AH-"
      },
      "execution_count": 2,
      "outputs": []
    },
    {
      "cell_type": "code",
      "source": [
        "# select the any relevant column on dataset\n",
        "print(df[:2])\n",
        "\n",
        "# choose 'Close'\n",
        "data = df[['Close']].values"
      ],
      "metadata": {
        "colab": {
          "base_uri": "https://localhost:8080/"
        },
        "id": "rWLKwELA9Oe1",
        "outputId": "6d23f34e-fea5-45db-8c6c-bee05bd36692"
      },
      "execution_count": 3,
      "outputs": [
        {
          "output_type": "stream",
          "name": "stdout",
          "text": [
            "         Date  Open  High  Low  Close  Volume\n",
            "0  01-01-2023   100   102   98    101  100000\n",
            "1  02-01-2023   101   103   99    102  110000\n"
          ]
        }
      ]
    },
    {
      "cell_type": "code",
      "source": [
        "# Normalize the data\n",
        "scaler = MinMaxScaler(feature_range=(0, 1))\n",
        "data = scaler.fit_transform(data)\n",
        "print(data)"
      ],
      "metadata": {
        "colab": {
          "base_uri": "https://localhost:8080/"
        },
        "id": "90pJ7CO89o6c",
        "outputId": "06ca396d-3c7a-47d1-ae25-60f4c2b710c5"
      },
      "execution_count": 4,
      "outputs": [
        {
          "output_type": "stream",
          "name": "stdout",
          "text": [
            "[[0.        ]\n",
            " [0.03448276]\n",
            " [0.06896552]\n",
            " [0.10344828]\n",
            " [0.13793103]\n",
            " [0.17241379]\n",
            " [0.20689655]\n",
            " [0.24137931]\n",
            " [0.27586207]\n",
            " [0.31034483]\n",
            " [0.34482759]\n",
            " [0.37931034]\n",
            " [0.4137931 ]\n",
            " [0.44827586]\n",
            " [0.48275862]\n",
            " [0.51724138]\n",
            " [0.55172414]\n",
            " [0.5862069 ]\n",
            " [0.62068966]\n",
            " [0.65517241]\n",
            " [0.68965517]\n",
            " [0.72413793]\n",
            " [0.75862069]\n",
            " [0.79310345]\n",
            " [0.82758621]\n",
            " [0.86206897]\n",
            " [0.89655172]\n",
            " [0.93103448]\n",
            " [0.96551724]\n",
            " [1.        ]]\n"
          ]
        }
      ]
    },
    {
      "cell_type": "code",
      "source": [
        "# check the number of samples in the data\n",
        "n_samples = data.shape[0]\n",
        "print(f\"Number of samples in the data: {n_samples}\")"
      ],
      "metadata": {
        "colab": {
          "base_uri": "https://localhost:8080/"
        },
        "id": "lBpEbnGa971m",
        "outputId": "0ae56105-2ac5-43c4-988d-ed8116886d58"
      },
      "execution_count": 5,
      "outputs": [
        {
          "output_type": "stream",
          "name": "stdout",
          "text": [
            "Number of samples in the data: 30\n"
          ]
        }
      ]
    },
    {
      "cell_type": "code",
      "source": [
        "#Ensure we have enough data by setting a reasonable train size\n",
        "if n_samples < 100:\n",
        "  print(\"dataset is very small, using 50% of the data for training\")\n",
        "  train_size = 0.5\n",
        "  seq_length = 5 # use a shorter sequence length for very small\n",
        "else:\n",
        "    train_size = 0.1\n",
        "    seq_length = 50 # fit the instruction"
      ],
      "metadata": {
        "colab": {
          "base_uri": "https://localhost:8080/"
        },
        "id": "DTE1G_5V-Ixs",
        "outputId": "bf157e67-c934-49d9-bf6c-772ed9fa49e0"
      },
      "execution_count": 6,
      "outputs": [
        {
          "output_type": "stream",
          "name": "stdout",
          "text": [
            "dataset is very small, using 50% of the data for training\n"
          ]
        }
      ]
    },
    {
      "cell_type": "code",
      "source": [
        "# reduce dataset suze for quicker runs\n",
        "X, _, Y, _ = train_test_split(data, data, train_size=train_size, random_state=42)\n",
        "# train dataset keep, test dataset won't use"
      ],
      "metadata": {
        "id": "4jY6XHOb_Ti2"
      },
      "execution_count": 7,
      "outputs": []
    },
    {
      "cell_type": "code",
      "source": [
        "# Preprocess the dataset with adjusted sequence length\n",
        "def create_dataset(data, time_step=seq_length):\n",
        "    X, Y = [], []\n",
        "    for i in range(len(data)-time_step-1):\n",
        "        a = data[i:(i+time_step), 0]\n",
        "        X.append(a)\n",
        "        Y.append(data[i + time_step, 0])\n",
        "    return np.array(X), np.array(Y)\n",
        "\n",
        "X, Y = create_dataset(data, seq_length)\n",
        "\n",
        "# Check if the generated sequences have valid shapes\n",
        "if X.size == 0 or Y.size == 0:\n",
        "    raise ValueError(f\"The dataset is too small to create sequences with a length of {seq_length}. Reduce the sequence length or use a larger dataset.\")\n",
        "\n",
        "X = X.reshape(X.shape[0], X.shape[1], 1)\n",
        "# The data is reshaped for 3D format - used to in LSTM model.\n",
        "\n",
        "print(\"Shape of X:\", X.shape)\n",
        "print(\"Shape of Y:\", Y.shape)"
      ],
      "metadata": {
        "colab": {
          "base_uri": "https://localhost:8080/"
        },
        "id": "6kLbcZJ__cgk",
        "outputId": "32d837f1-c1e1-44b7-d825-90551f97b9e8"
      },
      "execution_count": 8,
      "outputs": [
        {
          "output_type": "stream",
          "name": "stdout",
          "text": [
            "Shape of X: (24, 5, 1)\n",
            "Shape of Y: (24,)\n"
          ]
        }
      ]
    },
    {
      "cell_type": "code",
      "source": [
        "# define a simpler transformer block for faster runs\n",
        "from tensorflow.keras.layers import Layer\n",
        "class TransformerBlock(Layer):\n",
        "    def __init__(self, embed_dim, num_heads, ff_dim, rate=0.1):\n",
        "        super(TransformerBlock, self).__init__()\n",
        "        self.att = tf.keras.layers.MultiHeadAttention(num_heads=num_heads, key_dim=embed_dim)\n",
        "        self.ffn = tf.keras.Sequential([\n",
        "            Dense(ff_dim, activation=\"relu\"),\n",
        "            Dense(embed_dim),\n",
        "        ])\n",
        "        self.layernorm1 = LayerNormalization(epsilon=1e-6)\n",
        "        self.layernorm2 = LayerNormalization(epsilon=1e-6)\n",
        "        self.dropout1 = Dropout(rate)\n",
        "        self.dropout2 = Dropout(rate)\n",
        "\n",
        "    def call(self, inputs, training=False):  # Set training argument default to False\n",
        "        attn_output = self.att(inputs, inputs)\n",
        "        attn_output = self.dropout1(attn_output, training=training)\n",
        "        out1 = self.layernorm1(inputs + attn_output)\n",
        "        ffn_output = self.ffn(out1)\n",
        "        ffn_output = self.dropout2(ffn_output, training=training)\n",
        "        return self.layernorm2(out1 + ffn_output)"
      ],
      "metadata": {
        "id": "C1Y13V63AkJT"
      },
      "execution_count": 9,
      "outputs": []
    },
    {
      "cell_type": "code",
      "source": [
        "# build and compile the model\n",
        "input_shape = (X.shape[1], X.shape[2])\n",
        "inputs= tf.keras.Input(shape=input_shape)\n",
        "x = tf.keras.layers.Dense(64)(inputs) # reduced embed_dim for faster runs\n",
        "transformer_block = TransformerBlock(embed_dim=64, num_heads=4, ff_dim=128)\n",
        "# reduce model complexity\n",
        "x = transformer_block(x,training = True)\n",
        "flatten = tf.keras.layers.Flatten()(x)\n",
        "outputs = tf.keras.layers.Dense(1)(flatten)\n",
        "model = tf.keras.Model(inputs=inputs, outputs=outputs)\n",
        "\n",
        "model.compile(optimizer='adam', loss='mean_squared_error')\n",
        "\n",
        "# early stopping to stop training when no improvment is seen\n",
        "early_stopping = EarlyStopping(monitor='loss', patience=2,restore_best_weights=True)\n",
        "\n",
        "#train the model with reduced epochs and steps\n",
        "history = model.fit(X, Y, epochs=5, batch_size=32, callbacks=[early_stopping], steps_per_epoch=10)\n",
        "\n",
        "#plot training\n",
        "plt.plot(history.history['loss'])\n",
        "plt.xlabel(\"Epochs\")\n",
        "plt.ylabel(\"Loss\")\n",
        "plt.title(\"training loss\")\n",
        "plt.show()\n"
      ],
      "metadata": {
        "colab": {
          "base_uri": "https://localhost:8080/",
          "height": 637
        },
        "id": "zBCHhFkDE1QL",
        "outputId": "a65e0f04-b512-4a43-bac9-fabcfbe9670f"
      },
      "execution_count": 10,
      "outputs": [
        {
          "output_type": "stream",
          "name": "stdout",
          "text": [
            "Epoch 1/5\n",
            "\u001b[1m10/10\u001b[0m \u001b[32m━━━━━━━━━━━━━━━━━━━━\u001b[0m\u001b[37m\u001b[0m \u001b[1m8s\u001b[0m 5ms/step - loss: 0.4419 \n",
            "Epoch 2/5\n"
          ]
        },
        {
          "output_type": "stream",
          "name": "stderr",
          "text": [
            "/usr/local/lib/python3.11/dist-packages/keras/src/trainers/epoch_iterator.py:107: UserWarning: Your input ran out of data; interrupting training. Make sure that your dataset or generator can generate at least `steps_per_epoch * epochs` batches. You may need to use the `.repeat()` function when building your dataset.\n",
            "  self._interrupted_warning()\n"
          ]
        },
        {
          "output_type": "stream",
          "name": "stdout",
          "text": [
            "\u001b[1m10/10\u001b[0m \u001b[32m━━━━━━━━━━━━━━━━━━━━\u001b[0m\u001b[37m\u001b[0m \u001b[1m1s\u001b[0m 3ms/step - loss: 6.9420\n",
            "Epoch 3/5\n",
            "\u001b[1m10/10\u001b[0m \u001b[32m━━━━━━━━━━━━━━━━━━━━\u001b[0m\u001b[37m\u001b[0m \u001b[1m0s\u001b[0m 2ms/step - loss: 0.9120 \n"
          ]
        },
        {
          "output_type": "display_data",
          "data": {
            "text/plain": [
              "<Figure size 640x480 with 1 Axes>"
            ],
            "image/png": "[encoded data removed]"
          },
          "metadata": {}
        }
      ]
    },
    {
      "cell_type": "code",
      "source": [
        "# exercise 2 : implement a learning rate scheduler to adjust the learning rate during training\n",
        "# Instruction : Define a learning rate scheduler that reduces the learning rate by half every 10 epochs\n",
        "#               train the model with the learning rate scheduler and compare the training loss\n"
      ],
      "metadata": {
        "id": "NncxNiAMHRy4"
      },
      "execution_count": null,
      "outputs": []
    },
    {
      "cell_type": "code",
      "source": [
        "from tensorflow.keras.callbacks import EarlyStopping, LearningRateScheduler\n",
        "\n",
        "def scheduler(epoch, lr):\n",
        "    if epoch > 0 and epoch % 10 == 0:\n",
        "        return lr * 0.5\n",
        "    return lr\n",
        "\n",
        "early_stopping = EarlyStopping(monitor='loss', patience=2, restore_best_weights=True)\n",
        "lr_scheduler = LearningRateScheduler(scheduler)\n",
        "\n",
        "history_with_scheduler= model.fit(\n",
        "    X, Y,\n",
        "    epochs=30,\n",
        "    batch_size=32,\n",
        "    steps_per_epoch=10,\n",
        "    callbacks=[early_stopping, lr_scheduler]\n",
        ")\n"
      ],
      "metadata": {
        "colab": {
          "base_uri": "https://localhost:8080/"
        },
        "id": "wxHldgT3J2Ue",
        "outputId": "76eb9e78-ec08-472e-9fd5-76aee2f76666"
      },
      "execution_count": 15,
      "outputs": [
        {
          "output_type": "stream",
          "name": "stdout",
          "text": [
            "Epoch 1/30\n",
            "\u001b[1m10/10\u001b[0m \u001b[32m━━━━━━━━━━━━━━━━━━━━\u001b[0m\u001b[37m\u001b[0m \u001b[1m0s\u001b[0m 3ms/step - loss: 3.1459 - learning_rate: 0.0010\n",
            "Epoch 2/30\n",
            "\u001b[1m10/10\u001b[0m \u001b[32m━━━━━━━━━━━━━━━━━━━━\u001b[0m\u001b[37m\u001b[0m \u001b[1m0s\u001b[0m 3ms/step - loss: 1.1150 - learning_rate: 0.0010\n",
            "Epoch 3/30\n",
            "\u001b[1m10/10\u001b[0m \u001b[32m━━━━━━━━━━━━━━━━━━━━\u001b[0m\u001b[37m\u001b[0m \u001b[1m0s\u001b[0m 3ms/step - loss: 0.3214 - learning_rate: 0.0010\n",
            "Epoch 4/30\n",
            "\u001b[1m10/10\u001b[0m \u001b[32m━━━━━━━━━━━━━━━━━━━━\u001b[0m\u001b[37m\u001b[0m \u001b[1m0s\u001b[0m 3ms/step - loss: 0.1318 - learning_rate: 0.0010\n",
            "Epoch 5/30\n",
            "\u001b[1m10/10\u001b[0m \u001b[32m━━━━━━━━━━━━━━━━━━━━\u001b[0m\u001b[37m\u001b[0m \u001b[1m0s\u001b[0m 2ms/step - loss: 0.5570 - learning_rate: 0.0010\n",
            "Epoch 6/30\n"
          ]
        },
        {
          "output_type": "stream",
          "name": "stderr",
          "text": [
            "/usr/local/lib/python3.11/dist-packages/keras/src/trainers/epoch_iterator.py:107: UserWarning: Your input ran out of data; interrupting training. Make sure that your dataset or generator can generate at least `steps_per_epoch * epochs` batches. You may need to use the `.repeat()` function when building your dataset.\n",
            "  self._interrupted_warning()\n"
          ]
        },
        {
          "output_type": "stream",
          "name": "stdout",
          "text": [
            "\u001b[1m10/10\u001b[0m \u001b[32m━━━━━━━━━━━━━━━━━━━━\u001b[0m\u001b[37m\u001b[0m \u001b[1m0s\u001b[0m 2ms/step - loss: 0.8972 - learning_rate: 0.0010\n"
          ]
        }
      ]
    },
    {
      "cell_type": "code",
      "source": [
        "plt.plot(history_with_scheduler.history['loss'], label='With LR Scheduler')\n",
        "plt.plot(history.history['loss'], label='Without LR Scheduler')\n",
        "plt.legend()\n",
        "plt.title(\"Training Loss Comparison\")\n",
        "plt.xlabel(\"Epoch\")\n",
        "plt.ylabel(\"Loss\")\n",
        "plt.show()"
      ],
      "metadata": {
        "colab": {
          "base_uri": "https://localhost:8080/",
          "height": 472
        },
        "id": "DUbs6r8VOqXf",
        "outputId": "692aafb8-8a26-400a-9b2f-5e756665a455"
      },
      "execution_count": 16,
      "outputs": [
        {
          "output_type": "display_data",
          "data": {
            "text/plain": [
              "<Figure size 640x480 with 1 Axes>"
            ],
            "image/png": "[encoded data removed]"
          },
          "metadata": {}
        }
      ]
    },
    {
      "cell_type": "markdown",
      "source": [
        "**why the loss gradually decrease with a learning rate scheduler**\n",
        "\n",
        "1. Early training : High learning rate\n",
        "\n",
        "\n",
        "\n",
        "*   At the beginning, the learning rate is high, which allows the model to make quick progress towards a good local minimun and optimize more quickly.\n",
        "\n",
        "2. Later training : Low learning rate\n",
        "\n",
        "\n",
        "*   As training continues, the learning rate is reduced, allowing the model to adjust its weights more prescisely. This result in more stable learning and the model avoids making large updates that could lead to instability,causing the loss to steadily decrease.  \n",
        "\n",
        "\n",
        "**Why the loss fluctuates rapidly without a learning rate scheduler**\n",
        "\n",
        "1. Large updates in early training\n",
        "\n",
        "\n",
        "\n",
        "\n",
        "*   In the beginning, a high learning rate may cause the model to make rapid progress but could also lead to it jumping over optimal points or not converging properly.\n",
        "*   As training continues, if the learning rate remains high, the model may become unstable and fail to converge properly. This could cause the model to overshoot the optimal value, resulting in fluctuations or divergence in the loss\n",
        "\n",
        "\n",
        "**Summary**\n",
        "*   Model with learning rate scheduler:\n",
        "    the learning rate gradually decrease,\n",
        "    allowing the model to optimize more stably, and the loss consistently decrease.\n",
        "\n",
        "*   Model without a scheduler:\n",
        "    with a fixed learning rate, the model might converge(모이다) quickly at first,but it can become unstable later in training, causing the loss to fluctuate(변동하다) or increase sharply.\n",
        "\n",
        "\n",
        "\n",
        "\n",
        "\n",
        "\n"
      ],
      "metadata": {
        "id": "36xsZJ3qPhcr"
      }
    }
  ]
}