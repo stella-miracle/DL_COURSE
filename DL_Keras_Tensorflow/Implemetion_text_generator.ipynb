{
  "nbformat": 4,
  "nbformat_minor": 0,
  "metadata": {
    "colab": {
      "provenance": [],
      "gpuType": "T4"
    },
    "kernelspec": {
      "name": "python3",
      "display_name": "Python 3"
    },
    "language_info": {
      "name": "python"
    },
    "accelerator": "GPU"
  },
  "cells": [
    {
      "cell_type": "code",
      "source": [
        "# Objective : Implement different sequence lengths to understand their effect on\n",
        "#             the performance of the transformer model.\n",
        "# instruction : change the sequence length to 50\n",
        "#               preprocess the data set with new sequence length\n",
        "#               train the model and compare the training loss"
      ],
      "metadata": {
        "id": "PbvrGioz7b0h"
      },
      "execution_count": null,
      "outputs": []
    },
    {
      "cell_type": "code",
      "source": [
        "! pip install pandas\n",
        "! pip install scikit-learn\n",
        "\n",
        "import numpy as np\n",
        "import pandas as pd\n",
        "import tensorflow as tf\n",
        "from sklearn.preprocessing import MinMaxScaler\n",
        "from sklearn.model_selection import train_test_split\n",
        "from tensorflow.keras.layers import Layer, Dense, LayerNormalization, Dropout, Input\n",
        "from tensorflow.keras.callbacks import EarlyStopping\n",
        "import matplotlib.pyplot as plt"
      ],
      "metadata": {
        "colab": {
          "base_uri": "https://localhost:8080/"
        },
        "id": "HDIMR-my78NQ",
        "outputId": "969c3aec-1cd7-458e-914b-5d03a753504d"
      },
      "execution_count": null,
      "outputs": [
        {
          "output_type": "stream",
          "name": "stdout",
          "text": [
            "Requirement already satisfied: pandas in /usr/local/lib/python3.11/dist-packages (2.2.2)\n",
            "Requirement already satisfied: numpy>=1.23.2 in /usr/local/lib/python3.11/dist-packages (from pandas) (2.0.2)\n",
            "Requirement already satisfied: python-dateutil>=2.8.2 in /usr/local/lib/python3.11/dist-packages (from pandas) (2.8.2)\n",
            "Requirement already satisfied: pytz>=2020.1 in /usr/local/lib/python3.11/dist-packages (from pandas) (2025.2)\n",
            "Requirement already satisfied: tzdata>=2022.7 in /usr/local/lib/python3.11/dist-packages (from pandas) (2025.2)\n",
            "Requirement already satisfied: six>=1.5 in /usr/local/lib/python3.11/dist-packages (from python-dateutil>=2.8.2->pandas) (1.17.0)\n",
            "Requirement already satisfied: scikit-learn in /usr/local/lib/python3.11/dist-packages (1.6.1)\n",
            "Requirement already satisfied: numpy>=1.19.5 in /usr/local/lib/python3.11/dist-packages (from scikit-learn) (2.0.2)\n",
            "Requirement already satisfied: scipy>=1.6.0 in /usr/local/lib/python3.11/dist-packages (from scikit-learn) (1.14.1)\n",
            "Requirement already satisfied: joblib>=1.2.0 in /usr/local/lib/python3.11/dist-packages (from scikit-learn) (1.4.2)\n",
            "Requirement already satisfied: threadpoolctl>=3.1.0 in /usr/local/lib/python3.11/dist-packages (from scikit-learn) (3.6.0)\n"
          ]
        }
      ]
    },
    {
      "cell_type": "code",
      "source": [
        "# load dataset\n",
        "data_url ='https://cf-courses-data.s3.us.cloud-object-storage.appdomain.cloud/WHA_mc9FWSVjCGLSLAp48A/stock-prices.csv'\n",
        "# load csv -> using Pandas_read function\n",
        "df = pd.read_csv(data_url)"
      ],
      "metadata": {
        "id": "Ong6pYb_9AH-"
      },
      "execution_count": null,
      "outputs": []
    },
    {
      "cell_type": "code",
      "source": [
        "# select the any relevant column on dataset\n",
        "print(df[:2])\n",
        "\n",
        "# choose 'Close'\n",
        "data = df[['Close']].values"
      ],
      "metadata": {
        "colab": {
          "base_uri": "https://localhost:8080/"
        },
        "id": "rWLKwELA9Oe1",
        "outputId": "ba35f8a1-43ee-4ae3-f400-e88872aa3002"
      },
      "execution_count": null,
      "outputs": [
        {
          "output_type": "stream",
          "name": "stdout",
          "text": [
            "         Date  Open  High  Low  Close  Volume\n",
            "0  01-01-2023   100   102   98    101  100000\n",
            "1  02-01-2023   101   103   99    102  110000\n"
          ]
        }
      ]
    },
    {
      "cell_type": "code",
      "source": [
        "# Normalize the data\n",
        "scaler = MinMaxScaler(feature_range=(0, 1))\n",
        "data = scaler.fit_transform(data)\n",
        "print(data)"
      ],
      "metadata": {
        "colab": {
          "base_uri": "https://localhost:8080/"
        },
        "id": "90pJ7CO89o6c",
        "outputId": "7876cbb3-e95f-45e8-bf50-5db3ab8c7f6b"
      },
      "execution_count": null,
      "outputs": [
        {
          "output_type": "stream",
          "name": "stdout",
          "text": [
            "[[0.        ]\n",
            " [0.03448276]\n",
            " [0.06896552]\n",
            " [0.10344828]\n",
            " [0.13793103]\n",
            " [0.17241379]\n",
            " [0.20689655]\n",
            " [0.24137931]\n",
            " [0.27586207]\n",
            " [0.31034483]\n",
            " [0.34482759]\n",
            " [0.37931034]\n",
            " [0.4137931 ]\n",
            " [0.44827586]\n",
            " [0.48275862]\n",
            " [0.51724138]\n",
            " [0.55172414]\n",
            " [0.5862069 ]\n",
            " [0.62068966]\n",
            " [0.65517241]\n",
            " [0.68965517]\n",
            " [0.72413793]\n",
            " [0.75862069]\n",
            " [0.79310345]\n",
            " [0.82758621]\n",
            " [0.86206897]\n",
            " [0.89655172]\n",
            " [0.93103448]\n",
            " [0.96551724]\n",
            " [1.        ]]\n"
          ]
        }
      ]
    },
    {
      "cell_type": "code",
      "source": [
        "# check the number of samples in the data\n",
        "n_samples = data.shape[0]\n",
        "print(f\"Number of samples in the data: {n_samples}\")"
      ],
      "metadata": {
        "colab": {
          "base_uri": "https://localhost:8080/"
        },
        "id": "lBpEbnGa971m",
        "outputId": "7aca0ecb-3ce5-4869-a2b7-0ba1ecb413c7"
      },
      "execution_count": null,
      "outputs": [
        {
          "output_type": "stream",
          "name": "stdout",
          "text": [
            "Number of samples in the data: 30\n"
          ]
        }
      ]
    },
    {
      "cell_type": "code",
      "source": [
        "#Ensure we have enough data by setting a reasonable train size\n",
        "if n_samples < 100:\n",
        "  print(\"dataset is very small, using 50% of the data for training\")\n",
        "  train_size = 0.5\n",
        "  seq_length = 5 # use a shorter sequence length for very small\n",
        "else:\n",
        "    train_size = 0.1\n",
        "    seq_length = 50 # fit the instruction"
      ],
      "metadata": {
        "colab": {
          "base_uri": "https://localhost:8080/"
        },
        "id": "DTE1G_5V-Ixs",
        "outputId": "419b4fcb-fda0-4a55-8fb5-6b25caae1d66"
      },
      "execution_count": null,
      "outputs": [
        {
          "output_type": "stream",
          "name": "stdout",
          "text": [
            "dataset is very small, using 50% of the data for training\n"
          ]
        }
      ]
    },
    {
      "cell_type": "code",
      "source": [
        "# reduce dataset suze for quicker runs\n",
        "X, _, Y, _ = train_test_split(data, data, train_size=train_size, random_state=42)\n",
        "# train dataset keep, test dataset won't use"
      ],
      "metadata": {
        "id": "4jY6XHOb_Ti2"
      },
      "execution_count": null,
      "outputs": []
    },
    {
      "cell_type": "code",
      "source": [
        "# Preprocess the dataset with adjusted sequence length\n",
        "def create_dataset(data, time_step=seq_length):\n",
        "    X, Y = [], []\n",
        "    for i in range(len(data)-time_step-1):\n",
        "        a = data[i:(i+time_step), 0]\n",
        "        X.append(a)\n",
        "        Y.append(data[i + time_step, 0])\n",
        "    return np.array(X), np.array(Y)\n",
        "\n",
        "X, Y = create_dataset(data, seq_length)\n",
        "\n",
        "# Check if the generated sequences have valid shapes\n",
        "if X.size == 0 or Y.size == 0:\n",
        "    raise ValueError(f\"The dataset is too small to create sequences with a length of {seq_length}. Reduce the sequence length or use a larger dataset.\")\n",
        "\n",
        "X = X.reshape(X.shape[0], X.shape[1], 1)\n",
        "# The data is reshaped for 3D format - used to in LSTM model.\n",
        "\n",
        "print(\"Shape of X:\", X.shape)\n",
        "print(\"Shape of Y:\", Y.shape)"
      ],
      "metadata": {
        "colab": {
          "base_uri": "https://localhost:8080/"
        },
        "id": "6kLbcZJ__cgk",
        "outputId": "90f2606c-de84-4dfd-f8ad-be91fdc81597"
      },
      "execution_count": null,
      "outputs": [
        {
          "output_type": "stream",
          "name": "stdout",
          "text": [
            "Shape of X: (24, 5, 1)\n",
            "Shape of Y: (24,)\n"
          ]
        }
      ]
    },
    {
      "cell_type": "code",
      "source": [
        "# define a simpler transformer block for faster runs\n",
        "from tensorflow.keras.layers import Layer\n",
        "class TransformerBlock(Layer):\n",
        "    def __init__(self, embed_dim, num_heads, ff_dim, rate=0.1):\n",
        "        super(TransformerBlock, self).__init__()\n",
        "        self.att = tf.keras.layers.MultiHeadAttention(num_heads=num_heads, key_dim=embed_dim)\n",
        "        self.ffn = tf.keras.Sequential([\n",
        "            Dense(ff_dim, activation=\"relu\"),\n",
        "            Dense(embed_dim),\n",
        "        ])\n",
        "        self.layernorm1 = LayerNormalization(epsilon=1e-6)\n",
        "        self.layernorm2 = LayerNormalization(epsilon=1e-6)\n",
        "        self.dropout1 = Dropout(rate)\n",
        "        self.dropout2 = Dropout(rate)\n",
        "\n",
        "    def call(self, inputs, training=False):  # Set training argument default to False\n",
        "        attn_output = self.att(inputs, inputs)\n",
        "        attn_output = self.dropout1(attn_output, training=training)\n",
        "        out1 = self.layernorm1(inputs + attn_output)\n",
        "        ffn_output = self.ffn(out1)\n",
        "        ffn_output = self.dropout2(ffn_output, training=training)\n",
        "        return self.layernorm2(out1 + ffn_output)"
      ],
      "metadata": {
        "id": "C1Y13V63AkJT"
      },
      "execution_count": null,
      "outputs": []
    },
    {
      "cell_type": "code",
      "source": [
        "# build and compile the model\n",
        "input_shape = (X.shape[1], X.shape[2])\n",
        "inputs= tf.keras.Input(shape=input_shape)\n",
        "x = tf.keras.layers.Dense(64)(inputs) # reduced embed_dim for faster runs\n",
        "transformer_block = TransformerBlock(embed_dim=64, num_heads=4, ff_dim=128)\n",
        "# reduce model complexity\n",
        "x = transformer_block(x,training = True)\n",
        "flatten = tf.keras.layers.Flatten()(x)\n",
        "outputs = tf.keras.layers.Dense(1)(flatten)\n",
        "model = tf.keras.Model(inputs=inputs, outputs=outputs)\n",
        "\n",
        "model.compile(optimizer='adam', loss='mean_squared_error')\n",
        "\n",
        "# early stopping to stop training when no improvment is seen\n",
        "early_stopping = EarlyStopping(monitor='loss', patience=2,restore_best_weights=True)\n",
        "\n",
        "#train the model with reduced epochs and steps\n",
        "history = model.fit(X, Y, epochs=5, batch_size=32, callbacks=[early_stopping], steps_per_epoch=10)\n",
        "\n",
        "#plot training\n",
        "plt.plot(history.history['loss'])\n",
        "plt.xlabel(\"Epochs\")\n",
        "plt.ylabel(\"Loss\")\n",
        "plt.title(\"training loss\")\n",
        "plt.show()\n"
      ],
      "metadata": {
        "colab": {
          "base_uri": "https://localhost:8080/",
          "height": 637
        },
        "id": "zBCHhFkDE1QL",
        "outputId": "f896f6f0-7a7f-49ca-a475-d28ba0489ce2"
      },
      "execution_count": null,
      "outputs": [
        {
          "output_type": "stream",
          "name": "stdout",
          "text": [
            "Epoch 1/5\n",
            "\u001b[1m10/10\u001b[0m \u001b[32m━━━━━━━━━━━━━━━━━━━━\u001b[0m\u001b[37m\u001b[0m \u001b[1m13s\u001b[0m 24ms/step - loss: 0.2985\n"
          ]
        },
        {
          "output_type": "stream",
          "name": "stderr",
          "text": [
            "/usr/local/lib/python3.11/dist-packages/keras/src/trainers/epoch_iterator.py:107: UserWarning: Your input ran out of data; interrupting training. Make sure that your dataset or generator can generate at least `steps_per_epoch * epochs` batches. You may need to use the `.repeat()` function when building your dataset.\n",
            "  self._interrupted_warning()\n"
          ]
        },
        {
          "output_type": "stream",
          "name": "stdout",
          "text": [
            "Epoch 2/5\n",
            "\u001b[1m10/10\u001b[0m \u001b[32m━━━━━━━━━━━━━━━━━━━━\u001b[0m\u001b[37m\u001b[0m \u001b[1m0s\u001b[0m 6ms/step - loss: 4.8947 \n",
            "Epoch 3/5\n",
            "\u001b[1m10/10\u001b[0m \u001b[32m━━━━━━━━━━━━━━━━━━━━\u001b[0m\u001b[37m\u001b[0m \u001b[1m0s\u001b[0m 4ms/step - loss: 0.7663 \n"
          ]
        },
        {
          "output_type": "display_data",
          "data": {
            "text/plain": [
              "<Figure size 640x480 with 1 Axes>"
            ],
            "image/png": "[encoded data removed]"
          },
          "metadata": {}
        }
      ]
    },
    {
      "cell_type": "code",
      "source": [
        "# exercise 2 : implement a learning rate scheduler to adjust the learning rate during training\n",
        "# Instruction : Define a learning rate scheduler that reduces the learning rate by half every 10 epochs\n",
        "#               train the model with the learning rate scheduler and compare the training loss\n"
      ],
      "metadata": {
        "id": "NncxNiAMHRy4"
      },
      "execution_count": null,
      "outputs": []
    },
    {
      "cell_type": "code",
      "source": [
        "import numpy as np\n",
        "import pandas as pd\n",
        "import tensorflow as tf\n",
        "from sklearn.preprocessing import MinMaxScaler\n",
        "from sklearn.model_selection import train_test_split\n",
        "from tensorflow.keras.layers import Layer, Dense, LayerNormalization, Dropout, Input\n",
        "import matplotlib.pyplot as plt\n",
        "\n",
        "def scheduler(epoch, lr):\n",
        "  if epoch % 10 == 0 and epoch!=0:\n",
        "    Ir = Ir * 0.5\n",
        "  return Ir\n",
        "\n",
        "callback = tf.keras.callbacks.LearningRateScheduler(scheduler)\n",
        "\n",
        "\n",
        "plt.plot(history.history['loss'])\n",
        "plt.xlabel(\"epochs\")\n",
        "plt.ylabel(\"loss\")\n",
        "plt.title(\"training loss with learning rate scheduler\")\n",
        "plt.show()"
      ],
      "metadata": {
        "colab": {
          "base_uri": "https://localhost:8080/",
          "height": 472
        },
        "id": "wxHldgT3J2Ue",
        "outputId": "17ceadc2-ad56-4d01-bf06-12eb6ad6f79e"
      },
      "execution_count": null,
      "outputs": [
        {
          "output_type": "display_data",
          "data": {
            "text/plain": [
              "<Figure size 640x480 with 1 Axes>"
            ],
            "image/png": "[encoded data removed]"
          },
          "metadata": {}
        }
      ]
    },
    {
      "cell_type": "code",
      "source": [
        "# exercise 3 : to explore the model's text generation capabilites and generate longer sequences\n",
        "# instruction : modify the generate_text function to generate 200 tokens instead of 100\n",
        "#               generate text using the trained model and the modified function\n"
      ],
      "metadata": {
        "id": "MqR0eVh6LPxR"
      },
      "execution_count": null,
      "outputs": []
    },
    {
      "cell_type": "code",
      "source": [
        "import numpy as np\n",
        "import pandas as pd\n",
        "import tensorflow as tf\n",
        "from sklearn.preprocessing import MinMaxScaler\n",
        "from sklearn.model_selection import train_test_split\n",
        "from tensorflow.keras.layers import Layer, Dense, LayerNormalization, Dropout, Input\n",
        "from tensorflow.keras.callbacks import EarlyStopping\n",
        "import matplotlib.pyplot as plt\n"
      ],
      "metadata": {
        "id": "jgD2sT5FL5N-"
      },
      "execution_count": null,
      "outputs": []
    },
    {
      "cell_type": "code",
      "source": [
        "import tensorflow as tf\n",
        "\n",
        "# Define the vectorizer\n",
        "vectorizer = tf.keras.layers.TextVectorization(output_mode='int', output_sequence_length=5)\n",
        "\n",
        "# Fit the vectorizer on some example data (e.g., a small corpus)\n",
        "corpus = [\"To be, or not to be\", \"That is the question\"]\n",
        "vectorizer.adapt(corpus)\n",
        "\n",
        "# Now, you can use the vectorizer to convert text to integers\n",
        "def generate_text(model, start_string, num_generate=200):\n",
        "    # Convert the start string to numbers (vectorize)\n",
        "    input_eval = vectorizer([start_string]).numpy()\n",
        "\n",
        "    # Ensure the input tensor has the correct shape\n",
        "    input_eval = tf.convert_to_tensor(input_eval[:, -5:])  # Ensure it has a shape of (1, 5)\n",
        "\n",
        "    text_generated = []\n",
        "\n",
        "    for i in range(num_generate):\n",
        "        # Make predictions using the model\n",
        "        predictions = model(input_eval)\n",
        "\n",
        "        # Ensure predictions is a matrix with shape [batch_size, num_classes]\n",
        "        predictions = tf.squeeze(predictions, 0)  # Remove the batch dimension\n",
        "        predictions = tf.expand_dims(predictions, 0)  # Add back a batch dimension for categorical\n",
        "\n",
        "        # Use a categorical distribution to predict the next word\n",
        "        predicted_id = tf.random.categorical(predictions, num_samples=1)[-1, 0].numpy()\n",
        "\n",
        "        # Update the input tensor to include the predicted word, maintaining the sequence length\n",
        "        input_eval = np.append(input_eval.numpy(), [[predicted_id]], axis=1)  # Append predicted token\n",
        "        input_eval = input_eval[:, -5:]  # Keep only the last 5 tokens to match input shape\n",
        "        input_eval = tf.convert_to_tensor(input_eval)  # Convert back to tensor\n",
        "\n",
        "        # Add the predicted word to the generated text\n",
        "        text_generated.append(vectorizer.get_vocabulary()[predicted_id])\n",
        "\n",
        "    return start_string + ' ' + ' '.join(text_generated)\n",
        "\n",
        "# Generate longer text\n",
        "start_string = \"To be, or not to be\"\n",
        "generated_text = generate_text(model, start_string)\n",
        "\n",
        "print(generated_text)"
      ],
      "metadata": {
        "colab": {
          "base_uri": "https://localhost:8080/"
        },
        "id": "Nat9wN7pM9h4",
        "outputId": "57ea8e51-f122-4d5c-8a25-d3fad4eba28a"
      },
      "execution_count": null,
      "outputs": [
        {
          "output_type": "stream",
          "name": "stdout",
          "text": [
            "To be, or not to be                                                                                                                                                                                                        \n"
          ]
        }
      ]
    }
  ]
}